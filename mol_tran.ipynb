{
 "cells": [
  {
   "cell_type": "code",
   "execution_count": 1,
   "id": "4b1e3f3b",
   "metadata": {},
   "outputs": [],
   "source": [
    "#CONTCAR:A completed reaction pathway structure (substrate + surface molecule).\n",
    "#BASECAR:New catalyst substrate model files to be constructed.\n",
    "#POSCAR: A new model for catalyst surface calculations.\n",
    "import os\n",
    "import shutil\n",
    "import pymatgen.core as mg\n",
    "import pandas as pd\n",
    "from pymatgen.io.vasp import Poscar"
   ]
  },
  {
   "cell_type": "code",
   "execution_count": 2,
   "id": "547d3833",
   "metadata": {
    "code_folding": []
   },
   "outputs": [],
   "source": [
    "Hight_max = 0.43 #Divided height of the model surface in Cartesian coordinate\n",
    "site_old_Species = 'Cu'#Location of the active site of the original structure\n",
    "site_old_num = 1 #Active site number of the original structure\n",
    "site_new_Species = 'Cu'#Location of the active site of the new structure\n",
    "site_new_num = 1 #Active site number of the new structure\n",
    "Species_df = pd.DataFrame(columns=['H','C','N','O','Cu'])#Order of possible elements\n",
    "Species_element = Species_df.columns.values.tolist()\n",
    "\n",
    "base = Poscar.from_file(\"BASE\")\n",
    "base = base.structure\n",
    "Species_2 = 0\n",
    "base_num = 0\n",
    "base_species = 'H'\n",
    "\n",
    "for i in range(base.num_sites):\n",
    "    if base_species != str(base.species[i]):\n",
    "        base_species = str(base.species[i])\n",
    "        Species_df.loc['Start_index',base_species] = i\n",
    "    if site_new_Species == str(base.species[i]):\n",
    "        Species_2 = Species_2 + 1\n",
    "        if site_new_num == Species_2:\n",
    "            site_B_index = i\n",
    "            break\n",
    "           \n",
    "for i in range(Species_df.shape[1]):\n",
    "    if Species_df.iloc[0][i] != Species_df.iloc[0][i]:\n",
    "        Species_df.iloc[0][i] = Species_df.iloc[0][i+1]\n",
    "for i in range(Species_df.shape[1]):\n",
    "    if i != Species_df.shape[1]-1:\n",
    "        Species_df.iloc[0][i] = Species_df.iloc[0][i+1]\n",
    "    else:\n",
    "        Species_df.iloc[0][i] = base.num_sites\n",
    "        \n",
    "Species_df_s = Species_df.copy(deep=True)        "
   ]
  },
  {
   "cell_type": "code",
   "execution_count": 3,
   "id": "2837a6c3",
   "metadata": {},
   "outputs": [
    {
     "name": "stderr",
     "output_type": "stream",
     "text": [
      "/opt/anaconda3/envs/VASP/lib/python3.11/site-packages/pymatgen/core/structure.py:756: UserWarning: Not all sites have property velocities. Missing values are set to None.\n",
      "  warnings.warn(f\"Not all sites have property {k}. Missing values are set to None.\")\n",
      "/opt/anaconda3/envs/VASP/lib/python3.11/site-packages/pymatgen/io/vasp/inputs.py:507: UserWarning: Velocities are missing or corrupted.\n",
      "  warnings.warn(\"Velocities are missing or corrupted.\")\n"
     ]
    }
   ],
   "source": [
    "for root, dirs, files in os.walk(os.getcwd()):\n",
    "        dir_list = dirs\n",
    "        break\n",
    "dir_list.remove('.ipynb_checkpoints')\n",
    "\n",
    "for dirs in dir_list:\n",
    "    base = Poscar.from_file(\"BASE\")\n",
    "    base = base.structure\n",
    "    Species_df = Species_df_s.copy(deep=True)    \n",
    "    #Reading structure files\n",
    "    old_str = Poscar.from_file(dirs+'/'+\"CONTCAR\")\n",
    "    old_str = old_str.structure\n",
    "    #Determine the displacement vector between the two active sites\n",
    "    Species_1 = 0\n",
    "    for i in range(old_str.num_sites):\n",
    "        if site_old_Species == str(old_str.species[i]):\n",
    "            Species_1 = Species_1 + 1\n",
    "            if site_old_num == Species_1:\n",
    "                site_A_index = i\n",
    "                break\n",
    "    Displacement_vector = base.frac_coords[site_B_index] - old_str.frac_coords[site_A_index]\n",
    "    num = 0\n",
    "    for i in range(old_str.num_sites):\n",
    "        coord_1 = old_str.frac_coords[i-num]\n",
    "        if coord_1[2] < Hight_max :\n",
    "            old_str.remove_sites([i-num])\n",
    "            num = num + 1\n",
    "    #Removal of the base atoms from the original structure file\n",
    "    num = 0\n",
    "    for i in range(old_str.num_sites):\n",
    "        coord_1 = old_str.frac_coords[i-num]\n",
    "        if coord_1[2] < Hight_max :\n",
    "            old_str.remove_sites([i-num])\n",
    "            num = num + 1\n",
    "    #Adding molecules to a new substrate file\n",
    "    for i in range(old_str.num_sites):\n",
    "        insert_index = Species_df.loc['Start_index',str(old_str.species[i])]\n",
    "        old_spec = old_str.species[i]\n",
    "        coord_new = old_str.frac_coords[i] + Displacement_vector\n",
    "        base.insert(insert_index,old_spec,coord_new)\n",
    "        for m in range(Species_element.index(str(old_str.species[i])),Species_df.shape[1]):\n",
    "            Species_df.iloc[0,m] = Species_df.iloc[0,m] + 1\n",
    "    #Exporting a new structure file\n",
    "    base.to(dirs+'/'+\"POSCAR\")\n",
    "    shutil.copyfile('INCAR',dirs+'/'+\"INCAR\")\n",
    "    shutil.copyfile('KPOINTS',dirs+'/'+\"KPOINTS\")"
   ]
  },
  {
   "cell_type": "code",
   "execution_count": null,
   "id": "d9d04eee",
   "metadata": {},
   "outputs": [],
   "source": []
  }
 ],
 "metadata": {
  "kernelspec": {
   "display_name": "VASP",
   "language": "python",
   "name": "vasp"
  },
  "language_info": {
   "codemirror_mode": {
    "name": "ipython",
    "version": 3
   },
   "file_extension": ".py",
   "mimetype": "text/x-python",
   "name": "python",
   "nbconvert_exporter": "python",
   "pygments_lexer": "ipython3",
   "version": "3.11.0"
  },
  "toc": {
   "base_numbering": 1,
   "nav_menu": {},
   "number_sections": true,
   "sideBar": true,
   "skip_h1_title": false,
   "title_cell": "Table of Contents",
   "title_sidebar": "Contents",
   "toc_cell": false,
   "toc_position": {},
   "toc_section_display": true,
   "toc_window_display": false
  }
 },
 "nbformat": 4,
 "nbformat_minor": 5
}
